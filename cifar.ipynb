{
 "cells": [
  {
   "cell_type": "code",
   "execution_count": 1,
   "metadata": {},
   "outputs": [
    {
     "name": "stderr",
     "output_type": "stream",
     "text": [
      "Using TensorFlow backend.\n"
     ]
    }
   ],
   "source": [
    "import os\n",
    "import re\n",
    "import shutil\n",
    "import pandas as pd\n",
    "import numpy as np\n",
    "import tensorflow as tf\n",
    "import matplotlib.pyplot as plt\n",
    "from keras import optimizers, datasets\n",
    "from keras import Model\n",
    "from keras import applications\n",
    "from keras.utils import to_categorical\n",
    "from keras.regularizers import l2\n",
    "from keras.initializers import Constant\n",
    "from keras.preprocessing.image import ImageDataGenerator, img_to_array, load_img\n",
    "from keras.models import Sequential\n",
    "from keras.layers import Conv2D, MaxPooling2D, GlobalAveragePooling2D, BatchNormalization\n",
    "from keras.layers import Activation, Dropout, Flatten, Dense\n",
    "from keras.layers.advanced_activations import PReLU\n",
    "from keras.initializers import he_normal, he_uniform"
   ]
  },
  {
   "cell_type": "raw",
   "metadata": {},
   "source": [
    "# directory structure for keras\n",
    "\n",
    "labels = pd.read_csv('data/trainLabels.csv')['label']\n",
    "for file in os.listdir('data/train'):\n",
    "    id = int(file[:file.index(\".\")])\n",
    "    label = labels[id - 1]\n",
    "    if not os.path.isdir('data/train/' + label):\n",
    "        os.makedirs('data/train/' + label)\n",
    "    shutil.move('data/train/' + file, 'data/train/' + label)"
   ]
  },
  {
   "cell_type": "code",
   "execution_count": 2,
   "metadata": {},
   "outputs": [],
   "source": [
    "# seems to reduce the chance of gpu errors\n",
    "\n",
    "import tensorflow as tf\n",
    "gpus = tf.config.experimental.list_physical_devices('GPU')\n",
    "if gpus:\n",
    "    try:\n",
    "        for gpu in gpus:\n",
    "            tf.config.experimental.set_memory_growth(gpu, True)\n",
    "\n",
    "    except RuntimeError as e:\n",
    "        print(e)"
   ]
  },
  {
   "cell_type": "code",
   "execution_count": null,
   "metadata": {},
   "outputs": [],
   "source": []
  },
  {
   "cell_type": "code",
   "execution_count": 3,
   "metadata": {},
   "outputs": [],
   "source": [
    "batch_size = 64"
   ]
  },
  {
   "cell_type": "code",
   "execution_count": 16,
   "metadata": {},
   "outputs": [],
   "source": [
    "datagen = ImageDataGenerator(rescale=1./255, \n",
    "                             validation_split=0.2)\n",
    "\n",
    "if os.path.isdir('preview'):\n",
    "    shutil.rmtree('preview')\n",
    "os.makedirs('preview')\n",
    "img = load_img('data/train/cat/204.png')\n",
    "x = img_to_array(img)          # array with shape (3, 32, 32)\n",
    "x = x.reshape((1,) + x.shape)  # array with shape (1, 3, 32, 32)\n",
    "\n",
    "i = 0\n",
    "for batch in datagen.flow(x, batch_size=1,\n",
    "                          save_to_dir='preview', save_prefix='cat', save_format='png'):\n",
    "    i += 1\n",
    "    if i > 20:\n",
    "        break"
   ]
  },
  {
   "cell_type": "code",
   "execution_count": 4,
   "metadata": {},
   "outputs": [
    {
     "name": "stdout",
     "output_type": "stream",
     "text": [
      "Found 40000 images belonging to 10 classes.\n",
      "Found 10000 images belonging to 10 classes.\n"
     ]
    }
   ],
   "source": [
    "datagen_aug = ImageDataGenerator(rescale=1./255, \n",
    "                                 validation_split=0.2, \n",
    "                                 horizontal_flip=True,\n",
    "                                 width_shift_range=4,\n",
    "                                 height_shift_range=4)\n",
    "\n",
    "datagen = ImageDataGenerator(rescale=1./255, validation_split=0.2)\n",
    "\n",
    "\n",
    "\n",
    "train_generator = datagen_aug.flow_from_directory('data/train',\n",
    "                                                    target_size=(32, 32),\n",
    "                                                    batch_size=batch_size,\n",
    "                                                    seed=0,\n",
    "                                                    subset='training')\n",
    "\n",
    "validation_generator = datagen.flow_from_directory('data/train',\n",
    "                                                    target_size=(32, 32),\n",
    "                                                    batch_size=batch_size,\n",
    "                                                    seed=0,\n",
    "                                                    subset='validation')"
   ]
  },
  {
   "cell_type": "code",
   "execution_count": 67,
   "metadata": {},
   "outputs": [],
   "source": [
    "model = Sequential()\n",
    "\n",
    "model.add(Conv2D(32, (3, 3), padding='same', kernel_regularizer=l2(4e-4), kernel_initializer=he_uniform(), input_shape=(32, 32, 3)))\n",
    "model.add(Activation('relu'))\n",
    "model.add(BatchNormalization())\n",
    "model.add(Dropout(0.1))\n",
    "model.add(Conv2D(32, (3, 3), padding='same', kernel_regularizer=l2(4e-4), kernel_initializer=he_uniform()))\n",
    "model.add(Activation('relu'))\n",
    "model.add(BatchNormalization())\n",
    "model.add(MaxPooling2D((2, 2)))\n",
    "\n",
    "model.add(Conv2D(64, (3, 3), padding='same', kernel_regularizer=l2(4e-4), kernel_initializer=he_uniform()))\n",
    "model.add(Activation('relu'))\n",
    "model.add(BatchNormalization())\n",
    "model.add(Dropout(0.2))\n",
    "model.add(Conv2D(64, (3, 3), padding='same', kernel_regularizer=l2(4e-4), kernel_initializer=he_uniform()))\n",
    "model.add(Activation('relu'))\n",
    "model.add(BatchNormalization())\n",
    "model.add(MaxPooling2D((2, 2)))\n",
    "\n",
    "model.add(Conv2D(128, (3, 3), padding='same', kernel_regularizer=l2(4e-4), kernel_initializer=he_uniform()))\n",
    "model.add(Activation('relu'))\n",
    "model.add(BatchNormalization())\n",
    "model.add(Dropout(0.3))\n",
    "model.add(Conv2D(128, (3, 3), padding='same', kernel_regularizer=l2(4e-4), kernel_initializer=he_uniform()))\n",
    "model.add(Activation('relu'))\n",
    "model.add(BatchNormalization())\n",
    "model.add(Dropout(0.3))\n",
    "model.add(Conv2D(128, (3, 3), padding='same', kernel_regularizer=l2(4e-4), kernel_initializer=he_uniform()))\n",
    "model.add(Activation('relu'))\n",
    "model.add(BatchNormalization())\n",
    "model.add(MaxPooling2D((2, 2)))\n",
    "\n",
    "model.add(Conv2D(256, (3, 3), padding='same', kernel_regularizer=l2(4e-4), kernel_initializer=he_uniform()))\n",
    "model.add(Activation('relu'))\n",
    "model.add(BatchNormalization())\n",
    "model.add(Dropout(0.4))\n",
    "model.add(Conv2D(256, (3, 3), padding='same', kernel_regularizer=l2(4e-4), kernel_initializer=he_uniform()))\n",
    "model.add(Activation('relu'))\n",
    "model.add(BatchNormalization())\n",
    "model.add(Dropout(0.4))\n",
    "model.add(Conv2D(256, (3, 3), padding='same', kernel_regularizer=l2(4e-4), kernel_initializer=he_uniform()))\n",
    "model.add(Activation('relu'))\n",
    "model.add(BatchNormalization())\n",
    "model.add(MaxPooling2D((2, 2)))\n",
    "\n",
    "model.add(Dropout(0.5))\n",
    "\n",
    "model.add(Flatten())\n",
    "\n",
    "model.add(Dense(512, kernel_regularizer=l2(4e-4), kernel_initializer=he_uniform()))\n",
    "model.add(Activation('relu'))\n",
    "model.add(BatchNormalization())\n",
    "model.add(Dropout(0.5))\n",
    "model.add(Dense(10))\n",
    "model.add(Activation('softmax'))\n",
    "\n",
    "opt = optimizers.Adam(lr = 0.00001, epsilon=0.0001)\n",
    "\n",
    "model.compile(loss='categorical_crossentropy',\n",
    "              optimizer=opt,\n",
    "              metrics=['accuracy'])"
   ]
  },
  {
   "cell_type": "code",
   "execution_count": 71,
   "metadata": {},
   "outputs": [
    {
     "name": "stdout",
     "output_type": "stream",
     "text": [
      "Epoch 1/1\n",
      "625/625 [==============================] - 36s 57ms/step - loss: 0.3059 - accuracy: 0.9639 - val_loss: 0.5479 - val_accuracy: 0.9140\n"
     ]
    }
   ],
   "source": [
    "history = model.fit_generator(train_generator,\n",
    "                              epochs=1,\n",
    "                              workers=2, # weirdly enough 3 works best (training on 6c/12t)\n",
    "                              validation_data=validation_generator,\n",
    "                              steps_per_epoch=40000 // batch_size,\n",
    "                              validation_steps=10000 // batch_size)"
   ]
  },
  {
   "cell_type": "code",
   "execution_count": 3,
   "metadata": {},
   "outputs": [
    {
     "name": "stdout",
     "output_type": "stream",
     "text": [
      "Found 40000 images belonging to 10 classes.\n",
      "Found 10000 images belonging to 10 classes.\n"
     ]
    }
   ],
   "source": [
    "# save_bottlebeck_features\n",
    "datagen = ImageDataGenerator(rescale=1./255, validation_split=0.2)\n",
    "\n",
    "model = applications.densenet.DenseNet201(input_shape=(32,32,3), include_top=False, weights='imagenet')\n",
    "\n",
    "t_generator = datagen.flow_from_directory('data/train',\n",
    "                                           subset='training',\n",
    "                                           seed=0,\n",
    "                                           shuffle=False,\n",
    "                                           class_mode=None,\n",
    "                                           target_size=(32, 32),\n",
    "                                           batch_size=40000)\n",
    "with tf.device('/cpu:0'):\n",
    "    bottleneck_features_train = model.predict_generator(t_generator, 1)\n",
    "np.save('bottleneck_features_train.npy', bottleneck_features_train)\n",
    "\n",
    "v_generator = datagen.flow_from_directory('data/train',\n",
    "                                           subset='validation',\n",
    "                                           seed=0,\n",
    "                                           shuffle=False,\n",
    "                                           class_mode=None,\n",
    "                                           target_size=(32, 32),\n",
    "                                           batch_size=10000)\n",
    "with tf.device('/cpu:0'):\n",
    "    bottleneck_features_validation = model.predict_generator(v_generator, 1)\n",
    "np.save('bottleneck_features_validation.npy', bottleneck_features_validation)"
   ]
  },
  {
   "cell_type": "code",
   "execution_count": null,
   "metadata": {},
   "outputs": [],
   "source": [
    "# train_top_model\n",
    "train_data = np.load('bottleneck_features_train.npy')\n",
    "l = []\n",
    "for i in range(10):\n",
    "    l = l + [i] * 4000\n",
    "train_labels = to_categorical(np.array(l), num_classes=10)\n",
    "    \n",
    "validation_data = np.load('bottleneck_features_validation.npy')\n",
    "l = []\n",
    "for i in range(10):\n",
    "    l = l + [i] * 1000\n",
    "validation_labels = to_categorical(np.array(l), num_classes=10)\n",
    "\n",
    "model = Sequential()\n",
    "model.add(Flatten(input_shape=(train_data.shape[1:])))\n",
    "model.add(Dense(200, activation='relu'))\n",
    "model.add(Dropout(0.5))\n",
    "model.add(Dense(10, activation='softmax'))\n",
    "\n",
    "model.compile(optimizer='adam',\n",
    "              loss='categorical_crossentropy',\n",
    "              metrics=['accuracy'])\n",
    "\n",
    "history = model.fit(train_data, \n",
    "                    train_labels,\n",
    "                    epochs=16,\n",
    "                    batch_size=batch_size,\n",
    "                    validation_data=(validation_data, validation_labels))"
   ]
  },
  {
   "cell_type": "code",
   "execution_count": 11,
   "metadata": {},
   "outputs": [],
   "source": [
    "model.save_weights('top_layer_model.h5')"
   ]
  },
  {
   "cell_type": "code",
   "execution_count": 50,
   "metadata": {},
   "outputs": [
    {
     "data": {
      "image/png": "[encoded data removed]",
      "text/plain": [
       "<Figure size 864x432 with 1 Axes>"
      ]
     },
     "metadata": {
      "needs_background": "light"
     },
     "output_type": "display_data"
    }
   ],
   "source": [
    "from scipy.interpolate import UnivariateSpline\n",
    "\n",
    "f = plt.figure(figsize=(12,6))\n",
    "\n",
    "x = range(1, 401)\n",
    "y1 = history.history['accuracy']\n",
    "y2 = history.history['val_accuracy']\n",
    "\n",
    "xs = np.linspace(1, 400, 1000)\n",
    "y1s = UnivariateSpline(x, y1, s=0.004)(xs)\n",
    "y2s = UnivariateSpline(x, y2, s=0.008)(xs)\n",
    "\n",
    "plt.plot(xs, y1s, color='#377eb8', linewidth=2.0)\n",
    "plt.plot(xs, y2s, color='#4daf4a', linewidth=2.0)\n",
    "plt.plot(x, y1, color='#377eb840')\n",
    "plt.plot(x, y2, color='#4daf4a40')\n",
    "plt.ylabel('Accuracy')\n",
    "plt.xlabel('Epoch')\n",
    "plt.legend(['Train', 'Test'], loc='upper left')\n",
    "plt.ylim(0.82, 0.98)\n",
    "plt.xlim(0)\n",
    "plt.grid()\n",
    "plt.show()\n",
    "\n",
    "#f.savefig('bn_after_activation.svg', bbox_inches='tight')"
   ]
  },
  {
   "cell_type": "code",
   "execution_count": 72,
   "metadata": {},
   "outputs": [],
   "source": [
    "model.save_weights('91.40_[cnv_32x2_64x2_128x3_256x3]_dns[512]_(bn_after_activation).h5')"
   ]
  },
  {
   "cell_type": "code",
   "execution_count": 68,
   "metadata": {},
   "outputs": [],
   "source": [
    "model.load_weights('90.77_[cnv_32x2_64x2_128x3_256x3]_dns[512]_(bn_after_activation).h5')"
   ]
  },
  {
   "cell_type": "code",
   "execution_count": 97,
   "metadata": {},
   "outputs": [
    {
     "name": "stdout",
     "output_type": "stream",
     "text": [
      "Found 300000 images belonging to 1 classes.\n"
     ]
    }
   ],
   "source": [
    "test_datagen = ImageDataGenerator(rescale=1./255)\n",
    "test_generator = test_datagen.flow_from_directory('data/test',\n",
    "                                                   target_size=(32, 32),\n",
    "                                                   batch_size=128,\n",
    "                                                   shuffle=False)"
   ]
  },
  {
   "cell_type": "code",
   "execution_count": 98,
   "metadata": {},
   "outputs": [
    {
     "name": "stdout",
     "output_type": "stream",
     "text": [
      "4688/4688 [==============================] - 319s 68ms/step\n"
     ]
    }
   ],
   "source": [
    "pred=model.predict_generator(test_generator, steps=len(test_generator), verbose=1)"
   ]
  },
  {
   "cell_type": "code",
   "execution_count": 103,
   "metadata": {},
   "outputs": [],
   "source": [
    "indices = np.argmax(pred, axis=1)\n",
    "ids = [int(re.sub('\\D+', '', name)) for name in test_generator.filenames]\n",
    "flipped = {v:k for k,v in validation_generator.class_indices.items()}\n",
    "labels = [flipped[i] for i in indices]\n",
    "submission = pd.DataFrame({'id':ids, 'label':labels}).sort_values(['id']).reset_index(drop=True)"
   ]
  },
  {
   "cell_type": "code",
   "execution_count": 106,
   "metadata": {},
   "outputs": [],
   "source": [
    "submission.to_csv('submission.csv', index=False)"
   ]
  },
  {
   "cell_type": "code",
   "execution_count": null,
   "metadata": {},
   "outputs": [],
   "source": [
    "from keras.utils import plot_model\n",
    "plot_model(model, to_file='model.png', show_layer_names=False, show_shapes=True)"
   ]
  },
  {
   "cell_type": "code",
   "execution_count": null,
   "metadata": {},
   "outputs": [],
   "source": []
  },
  {
   "cell_type": "code",
   "execution_count": null,
   "metadata": {},
   "outputs": [],
   "source": []
  },
  {
   "cell_type": "raw",
   "metadata": {},
   "source": [
    "agumentation\n",
    "\n",
    "after 16 epochs \n",
    "horizontal flipping   +2\n",
    "vertical flipping     -6\n",
    "\n",
    "\n",
    "hflip included in next tests (and comparing to pure hflip)\n",
    "\n",
    "any augmentation other than flipping visibly increases computation time (less so with workes>1)\n",
    "adding subsequent augmetations also increases computation time but not as much as the 1st one\n",
    "\n",
    "after 16 epochs\n",
    "w/h shift 7                -10\n",
    "w/h shift 7 constant fill  -10\n",
    "w/h shift 2                  0\n",
    "w/h shift 2 constant fill   -1\n",
    "\n",
    "after 64 epochs\n",
    "w/h shift 2  +3\n",
    "w/h shift 3  +4\n",
    "\n",
    "zoom 0.1     +1 <- more stable\n",
    "zoom 0.2     +1\n",
    "\n",
    "rotation 20  -1\n",
    "rotation  8   0\n",
    "\n",
    "shear     4  -1\n",
    "shear     8  "
   ]
  },
  {
   "cell_type": "raw",
   "metadata": {},
   "source": [
    "batch size - one epoch training time (for some architecture)\n",
    "\n",
    "CPU 1024 - 18s\n",
    "GPU 1024 - 12s\n",
    "  CPU 64 - 22s\n",
    "  GPU 32 - 14s 67.5\n",
    "  CPU 32 - 26s\n",
    "  GPU 16 - 15s 67.8\n",
    "  CPU 16 - 39s\n",
    "   GPU 8 - 22s\n",
    "   CPU 8 - 50s\n",
    "   GPU 4 - 42s\n",
    "   GPU 2 - 82s\n",
    "   \n"
   ]
  },
  {
   "cell_type": "markdown",
   "metadata": {},
   "source": [
    "#### 2x32_2x64_2x128_2x256_512\n",
    "31s per epoch\n",
    "* 88% - 42 min\n",
    "* 89% - 55 min\n",
    "\n",
    "#### 2x32_2x64_3x128_3x256_512\n",
    "36s per epoch\n",
    "* 88% - 51 min\n",
    "* 89% - 1.2 h\n",
    "* 90% - 1.8 h\n",
    "\n",
    "#### l2 regularization 1e-4 --> 4e-4\n",
    "36s per epoch\n",
    "* 88% - 50 min\n",
    "* 89% -  1  h\n",
    "* 90% - 1.7 h\n",
    "  \n",
    "![](90.71_4h_batch64_epoch400_2x32_2x64_3x128_3x256_512_(l2_4e-4).svg)\n",
    "\n",
    "#### ELU without BN\n",
    "22s per epoch  \n",
    "worse performance, barely reaching 88% in 1.3h\n",
    "\n",
    "#### PReLU with alpha 0.25 and bigger batches (128)\n",
    "36s per epoch (would be higher if same batch size would be used)  \n",
    "similar to last best model but converges slower  \n",
    "![](90.54_3h_batch128_epoch300_2x32_2x64_3x128_3x256_512_PReLU.svg)\n",
    "\n",
    "#### Bigger batches (128)\n",
    "29s per epoch  \n",
    "![](bigbatch.svg)  \n",
    "So PReLU may work after all, but will be used only at the end (after tuning) bcs it makes training too long\n",
    "\n",
    "#### Dropout before dense\n",
    "36s per epoch  \n",
    "![](dropout_before_dense.svg)  \n",
    "It seems this model would benefit from more learning time.  \n",
    "It is used as a base further on.\n",
    "\n",
    "#### He_normal initialization\n",
    "36s per epoch  \n",
    "![](he_normal.svg)  \n",
    "\n",
    "#### He_uniform initialization\n",
    "36s per epoch  \n",
    "![](he_uniform.svg)  \n",
    "It is used as a base further on, but default initialization will be tested again at the end (BN makes initialization less important)\n",
    "\n",
    "#### Shift 4\n",
    "36s per epoch  \n",
    "![](shift4.svg)  \n",
    "It is used as a base further on\n",
    "\n",
    "#### ADAM LR * 2\n",
    "36s per epoch  \n",
    "![](lr2e-4.svg)  \n",
    "\n",
    "#### ADAM eps 1e-4 (changed from default 1e-8)\n",
    "36s per epoch  \n",
    "![](eps1e-4.svg)  \n",
    "It is used as a base further on\n",
    "\n",
    "#### No BN and regularizer at last layer\n",
    "35s per epoch  \n",
    "![](clean_last.svg)  \n",
    "It is used as a base further on\n",
    "\n",
    "#### BN after activation\n",
    "36s per epoch  \n",
    "![](bn_after_activation.svg)  \n",
    "It is used as a base further on\n",
    "\n",
    "#### Higher l2 regularization (1e-3) "
   ]
  },
  {
   "cell_type": "code",
   "execution_count": null,
   "metadata": {},
   "outputs": [],
   "source": []
  },
  {
   "cell_type": "raw",
   "metadata": {},
   "source": [
    "usefull\n",
    "\n",
    "https://blog.keras.io/building-powerful-image-classification-models-using-very-little-data.html\n",
    "https://keras.io/examples/cifar10_resnet/\n",
    "https://github.com/BIGBALLON/cifar-10-cnn"
   ]
  }
 ],
 "metadata": {
  "kernelspec": {
   "display_name": "Python 3",
   "language": "python",
   "name": "python3"
  },
  "language_info": {
   "codemirror_mode": {
    "name": "ipython",
    "version": 3
   },
   "file_extension": ".py",
   "mimetype": "text/x-python",
   "name": "python",
   "nbconvert_exporter": "python",
   "pygments_lexer": "ipython3",
   "version": "3.7.3"
  }
 },
 "nbformat": 4,
 "nbformat_minor": 4
}
